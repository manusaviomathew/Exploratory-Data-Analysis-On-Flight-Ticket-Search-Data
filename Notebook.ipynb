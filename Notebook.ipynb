{
 "cells": [
  {
   "cell_type": "markdown",
   "metadata": {},
   "source": [
    "### Libraries Imported"
   ]
  },
  {
   "cell_type": "code",
   "execution_count": 300,
   "metadata": {},
   "outputs": [],
   "source": [
    "import pandas as pd\n",
    "import glob\n",
    "import seaborn as sns\n",
    "import matplotlib.pyplot as plt"
   ]
  },
  {
   "cell_type": "markdown",
   "metadata": {},
   "source": [
    "### Loading all CSV files and creating one single dataframe for all data points"
   ]
  },
  {
   "cell_type": "code",
   "execution_count": 215,
   "metadata": {},
   "outputs": [],
   "source": [
    "appended_data = []\n",
    "for infile in glob.glob(\"*.csv\"):\n",
    "    data = pd.read_csv(infile)\n",
    "    # store DataFrame in list\n",
    "    appended_data.append(data)\n",
    "# see pd.concat documentation for more info\n",
    "appended_data = pd.concat(appended_data)\n"
   ]
  },
  {
   "cell_type": "code",
   "execution_count": 391,
   "metadata": {},
   "outputs": [
    {
     "data": {
      "text/html": [
       "<div>\n",
       "<style scoped>\n",
       "    .dataframe tbody tr th:only-of-type {\n",
       "        vertical-align: middle;\n",
       "    }\n",
       "\n",
       "    .dataframe tbody tr th {\n",
       "        vertical-align: top;\n",
       "    }\n",
       "\n",
       "    .dataframe thead th {\n",
       "        text-align: right;\n",
       "    }\n",
       "</style>\n",
       "<table border=\"1\" class=\"dataframe\">\n",
       "  <thead>\n",
       "    <tr style=\"text-align: right;\">\n",
       "      <th></th>\n",
       "      <th>searchTerms</th>\n",
       "      <th>rank</th>\n",
       "      <th>title</th>\n",
       "      <th>snippet</th>\n",
       "      <th>displayLink</th>\n",
       "      <th>link</th>\n",
       "      <th>queryTime</th>\n",
       "      <th>totalResults</th>\n",
       "      <th>cacheId</th>\n",
       "      <th>formattedUrl</th>\n",
       "      <th>...</th>\n",
       "      <th>count</th>\n",
       "      <th>startIndex</th>\n",
       "      <th>inputEncoding</th>\n",
       "      <th>outputEncoding</th>\n",
       "      <th>safe</th>\n",
       "      <th>cx</th>\n",
       "      <th>gl</th>\n",
       "      <th>searchTime</th>\n",
       "      <th>formattedSearchTime</th>\n",
       "      <th>formattedTotalResults</th>\n",
       "    </tr>\n",
       "  </thead>\n",
       "  <tbody>\n",
       "    <tr>\n",
       "      <th>0</th>\n",
       "      <td>flights to hong kong</td>\n",
       "      <td>1</td>\n",
       "      <td>Cheap Flights to Hong Kong (HKG) from $397 - K...</td>\n",
       "      <td>Find flights to Hong Kong on XiamenAir, Hong K...</td>\n",
       "      <td>www.kayak.com</td>\n",
       "      <td>https://www.kayak.com/flight-routes/United-Sta...</td>\n",
       "      <td>2018-12-16 11:26:30.485612+00:00</td>\n",
       "      <td>106000000</td>\n",
       "      <td>W42baDpas_gJ</td>\n",
       "      <td>https://www.kayak.com/flight-routes/United.../...</td>\n",
       "      <td>...</td>\n",
       "      <td>10</td>\n",
       "      <td>1</td>\n",
       "      <td>utf8</td>\n",
       "      <td>utf8</td>\n",
       "      <td>off</td>\n",
       "      <td>012859022920491477448:pubdbfjmmec</td>\n",
       "      <td>us</td>\n",
       "      <td>0.162895</td>\n",
       "      <td>0.16</td>\n",
       "      <td>106,000,000</td>\n",
       "    </tr>\n",
       "    <tr>\n",
       "      <th>1</th>\n",
       "      <td>flights to hong kong</td>\n",
       "      <td>2</td>\n",
       "      <td>$480 Flights to Hong Kong, China (HKG) - TripA...</td>\n",
       "      <td>Cheap Flights to Hong Kong: Enter your dates o...</td>\n",
       "      <td>www.tripadvisor.com</td>\n",
       "      <td>https://www.tripadvisor.com/Flights-g294217-Ho...</td>\n",
       "      <td>2018-12-16 11:26:30.485612+00:00</td>\n",
       "      <td>106000000</td>\n",
       "      <td>5jsjhmxgxvkJ</td>\n",
       "      <td>https://www.tripadvisor.com/Flights-g294217-Ho...</td>\n",
       "      <td>...</td>\n",
       "      <td>10</td>\n",
       "      <td>1</td>\n",
       "      <td>utf8</td>\n",
       "      <td>utf8</td>\n",
       "      <td>off</td>\n",
       "      <td>012859022920491477448:pubdbfjmmec</td>\n",
       "      <td>us</td>\n",
       "      <td>0.162895</td>\n",
       "      <td>0.16</td>\n",
       "      <td>106,000,000</td>\n",
       "    </tr>\n",
       "    <tr>\n",
       "      <th>2</th>\n",
       "      <td>flights to hong kong</td>\n",
       "      <td>3</td>\n",
       "      <td>Cheap Flights to Hong Kong International from ...</td>\n",
       "      <td>Search cheap flights using Skyscanner's free f...</td>\n",
       "      <td>www.skyscanner.com</td>\n",
       "      <td>https://www.skyscanner.com/flights-to/hkg/chea...</td>\n",
       "      <td>2018-12-16 11:26:30.485612+00:00</td>\n",
       "      <td>106000000</td>\n",
       "      <td>EI78TI4Q1qYJ</td>\n",
       "      <td>https://www.skyscanner.com/flights-to/hkg/chea...</td>\n",
       "      <td>...</td>\n",
       "      <td>10</td>\n",
       "      <td>1</td>\n",
       "      <td>utf8</td>\n",
       "      <td>utf8</td>\n",
       "      <td>off</td>\n",
       "      <td>012859022920491477448:pubdbfjmmec</td>\n",
       "      <td>us</td>\n",
       "      <td>0.162895</td>\n",
       "      <td>0.16</td>\n",
       "      <td>106,000,000</td>\n",
       "    </tr>\n",
       "    <tr>\n",
       "      <th>3</th>\n",
       "      <td>flights to hong kong</td>\n",
       "      <td>4</td>\n",
       "      <td>Flights to Hong Kong (HKG) | Hong Kong Flight ...</td>\n",
       "      <td>Find &amp; book great deals on Hong Kong (HKG) Fli...</td>\n",
       "      <td>flights.cathaypacific.com</td>\n",
       "      <td>https://flights.cathaypacific.com/en-us/flight...</td>\n",
       "      <td>2018-12-16 11:26:30.485612+00:00</td>\n",
       "      <td>106000000</td>\n",
       "      <td>q6kszaD7mggJ</td>\n",
       "      <td>https://flights.cathaypacific.com/en-us/flight...</td>\n",
       "      <td>...</td>\n",
       "      <td>10</td>\n",
       "      <td>1</td>\n",
       "      <td>utf8</td>\n",
       "      <td>utf8</td>\n",
       "      <td>off</td>\n",
       "      <td>012859022920491477448:pubdbfjmmec</td>\n",
       "      <td>us</td>\n",
       "      <td>0.162895</td>\n",
       "      <td>0.16</td>\n",
       "      <td>106,000,000</td>\n",
       "    </tr>\n",
       "    <tr>\n",
       "      <th>4</th>\n",
       "      <td>flights to hong kong</td>\n",
       "      <td>5</td>\n",
       "      <td>Cheap Flights to Hong Kong SAR, Asia $393.97 i...</td>\n",
       "      <td>Expedia Add-On Advantage: Book a flight &amp; unlo...</td>\n",
       "      <td>www.expedia.com</td>\n",
       "      <td>https://www.expedia.com/Cheap-Flights-To-Hong-...</td>\n",
       "      <td>2018-12-16 11:26:30.485612+00:00</td>\n",
       "      <td>106000000</td>\n",
       "      <td>iEmRbX0P8CAJ</td>\n",
       "      <td>https://www.expedia.com/Cheap-Flights-To-Hong-...</td>\n",
       "      <td>...</td>\n",
       "      <td>10</td>\n",
       "      <td>1</td>\n",
       "      <td>utf8</td>\n",
       "      <td>utf8</td>\n",
       "      <td>off</td>\n",
       "      <td>012859022920491477448:pubdbfjmmec</td>\n",
       "      <td>us</td>\n",
       "      <td>0.162895</td>\n",
       "      <td>0.16</td>\n",
       "      <td>106,000,000</td>\n",
       "    </tr>\n",
       "  </tbody>\n",
       "</table>\n",
       "<p>5 rows × 26 columns</p>\n",
       "</div>"
      ],
      "text/plain": [
       "            searchTerms  rank  \\\n",
       "0  flights to hong kong     1   \n",
       "1  flights to hong kong     2   \n",
       "2  flights to hong kong     3   \n",
       "3  flights to hong kong     4   \n",
       "4  flights to hong kong     5   \n",
       "\n",
       "                                               title  \\\n",
       "0  Cheap Flights to Hong Kong (HKG) from $397 - K...   \n",
       "1  $480 Flights to Hong Kong, China (HKG) - TripA...   \n",
       "2  Cheap Flights to Hong Kong International from ...   \n",
       "3  Flights to Hong Kong (HKG) | Hong Kong Flight ...   \n",
       "4  Cheap Flights to Hong Kong SAR, Asia $393.97 i...   \n",
       "\n",
       "                                             snippet  \\\n",
       "0  Find flights to Hong Kong on XiamenAir, Hong K...   \n",
       "1  Cheap Flights to Hong Kong: Enter your dates o...   \n",
       "2  Search cheap flights using Skyscanner's free f...   \n",
       "3  Find & book great deals on Hong Kong (HKG) Fli...   \n",
       "4  Expedia Add-On Advantage: Book a flight & unlo...   \n",
       "\n",
       "                 displayLink  \\\n",
       "0              www.kayak.com   \n",
       "1        www.tripadvisor.com   \n",
       "2         www.skyscanner.com   \n",
       "3  flights.cathaypacific.com   \n",
       "4            www.expedia.com   \n",
       "\n",
       "                                                link  \\\n",
       "0  https://www.kayak.com/flight-routes/United-Sta...   \n",
       "1  https://www.tripadvisor.com/Flights-g294217-Ho...   \n",
       "2  https://www.skyscanner.com/flights-to/hkg/chea...   \n",
       "3  https://flights.cathaypacific.com/en-us/flight...   \n",
       "4  https://www.expedia.com/Cheap-Flights-To-Hong-...   \n",
       "\n",
       "                          queryTime  totalResults       cacheId  \\\n",
       "0  2018-12-16 11:26:30.485612+00:00     106000000  W42baDpas_gJ   \n",
       "1  2018-12-16 11:26:30.485612+00:00     106000000  5jsjhmxgxvkJ   \n",
       "2  2018-12-16 11:26:30.485612+00:00     106000000  EI78TI4Q1qYJ   \n",
       "3  2018-12-16 11:26:30.485612+00:00     106000000  q6kszaD7mggJ   \n",
       "4  2018-12-16 11:26:30.485612+00:00     106000000  iEmRbX0P8CAJ   \n",
       "\n",
       "                                        formattedUrl  ... count startIndex  \\\n",
       "0  https://www.kayak.com/flight-routes/United.../...  ...    10          1   \n",
       "1  https://www.tripadvisor.com/Flights-g294217-Ho...  ...    10          1   \n",
       "2  https://www.skyscanner.com/flights-to/hkg/chea...  ...    10          1   \n",
       "3  https://flights.cathaypacific.com/en-us/flight...  ...    10          1   \n",
       "4  https://www.expedia.com/Cheap-Flights-To-Hong-...  ...    10          1   \n",
       "\n",
       "  inputEncoding outputEncoding safe                                 cx  gl  \\\n",
       "0          utf8           utf8  off  012859022920491477448:pubdbfjmmec  us   \n",
       "1          utf8           utf8  off  012859022920491477448:pubdbfjmmec  us   \n",
       "2          utf8           utf8  off  012859022920491477448:pubdbfjmmec  us   \n",
       "3          utf8           utf8  off  012859022920491477448:pubdbfjmmec  us   \n",
       "4          utf8           utf8  off  012859022920491477448:pubdbfjmmec  us   \n",
       "\n",
       "   searchTime formattedSearchTime formattedTotalResults  \n",
       "0    0.162895                0.16           106,000,000  \n",
       "1    0.162895                0.16           106,000,000  \n",
       "2    0.162895                0.16           106,000,000  \n",
       "3    0.162895                0.16           106,000,000  \n",
       "4    0.162895                0.16           106,000,000  \n",
       "\n",
       "[5 rows x 26 columns]"
      ]
     },
     "execution_count": 391,
     "metadata": {},
     "output_type": "execute_result"
    }
   ],
   "source": [
    "appended_data.head()"
   ]
  },
  {
   "cell_type": "code",
   "execution_count": 392,
   "metadata": {},
   "outputs": [
    {
     "data": {
      "text/plain": [
       "(68000, 26)"
      ]
     },
     "execution_count": 392,
     "metadata": {},
     "output_type": "execute_result"
    }
   ],
   "source": [
    "appended_data.shape"
   ]
  },
  {
   "cell_type": "markdown",
   "metadata": {},
   "source": [
    "### Creating dataframe with only useful info for analysis"
   ]
  },
  {
   "cell_type": "code",
   "execution_count": 217,
   "metadata": {},
   "outputs": [],
   "source": [
    "data=appended_data[['searchTerms', 'rank','displayLink','queryTime', 'totalResults','formattedSearchTime']]"
   ]
  },
  {
   "cell_type": "code",
   "execution_count": 218,
   "metadata": {},
   "outputs": [
    {
     "data": {
      "text/plain": [
       "searchTerms             object\n",
       "rank                     int64\n",
       "displayLink             object\n",
       "queryTime               object\n",
       "totalResults             int64\n",
       "formattedSearchTime    float64\n",
       "dtype: object"
      ]
     },
     "execution_count": 218,
     "metadata": {},
     "output_type": "execute_result"
    }
   ],
   "source": [
    "data.dtypes"
   ]
  },
  {
   "cell_type": "markdown",
   "metadata": {},
   "source": [
    "### Extracting date from querytime column"
   ]
  },
  {
   "cell_type": "code",
   "execution_count": 393,
   "metadata": {},
   "outputs": [
    {
     "name": "stderr",
     "output_type": "stream",
     "text": [
      "C:\\Users\\Manu\\Anaconda3\\lib\\site-packages\\ipykernel_launcher.py:1: SettingWithCopyWarning: \n",
      "A value is trying to be set on a copy of a slice from a DataFrame.\n",
      "Try using .loc[row_indexer,col_indexer] = value instead\n",
      "\n",
      "See the caveats in the documentation: http://pandas.pydata.org/pandas-docs/stable/indexing.html#indexing-view-versus-copy\n",
      "  \"\"\"Entry point for launching an IPython kernel.\n"
     ]
    },
    {
     "data": {
      "text/html": [
       "<div>\n",
       "<style scoped>\n",
       "    .dataframe tbody tr th:only-of-type {\n",
       "        vertical-align: middle;\n",
       "    }\n",
       "\n",
       "    .dataframe tbody tr th {\n",
       "        vertical-align: top;\n",
       "    }\n",
       "\n",
       "    .dataframe thead th {\n",
       "        text-align: right;\n",
       "    }\n",
       "</style>\n",
       "<table border=\"1\" class=\"dataframe\">\n",
       "  <thead>\n",
       "    <tr style=\"text-align: right;\">\n",
       "      <th></th>\n",
       "      <th>searchTerms</th>\n",
       "      <th>rank</th>\n",
       "      <th>displayLink</th>\n",
       "      <th>queryTime</th>\n",
       "      <th>totalResults</th>\n",
       "      <th>formattedSearchTime</th>\n",
       "      <th>searchdate</th>\n",
       "    </tr>\n",
       "  </thead>\n",
       "  <tbody>\n",
       "    <tr>\n",
       "      <th>0</th>\n",
       "      <td>flights to hong kong</td>\n",
       "      <td>1</td>\n",
       "      <td>www.kayak.com</td>\n",
       "      <td>2018-12-16 11:26:30.485612+00:00</td>\n",
       "      <td>106000000</td>\n",
       "      <td>0.16</td>\n",
       "      <td>2018-12-16</td>\n",
       "    </tr>\n",
       "    <tr>\n",
       "      <th>1</th>\n",
       "      <td>flights to hong kong</td>\n",
       "      <td>2</td>\n",
       "      <td>www.tripadvisor.com</td>\n",
       "      <td>2018-12-16 11:26:30.485612+00:00</td>\n",
       "      <td>106000000</td>\n",
       "      <td>0.16</td>\n",
       "      <td>2018-12-16</td>\n",
       "    </tr>\n",
       "    <tr>\n",
       "      <th>2</th>\n",
       "      <td>flights to hong kong</td>\n",
       "      <td>3</td>\n",
       "      <td>www.skyscanner.com</td>\n",
       "      <td>2018-12-16 11:26:30.485612+00:00</td>\n",
       "      <td>106000000</td>\n",
       "      <td>0.16</td>\n",
       "      <td>2018-12-16</td>\n",
       "    </tr>\n",
       "    <tr>\n",
       "      <th>3</th>\n",
       "      <td>flights to hong kong</td>\n",
       "      <td>4</td>\n",
       "      <td>flights.cathaypacific.com</td>\n",
       "      <td>2018-12-16 11:26:30.485612+00:00</td>\n",
       "      <td>106000000</td>\n",
       "      <td>0.16</td>\n",
       "      <td>2018-12-16</td>\n",
       "    </tr>\n",
       "    <tr>\n",
       "      <th>4</th>\n",
       "      <td>flights to hong kong</td>\n",
       "      <td>5</td>\n",
       "      <td>www.expedia.com</td>\n",
       "      <td>2018-12-16 11:26:30.485612+00:00</td>\n",
       "      <td>106000000</td>\n",
       "      <td>0.16</td>\n",
       "      <td>2018-12-16</td>\n",
       "    </tr>\n",
       "  </tbody>\n",
       "</table>\n",
       "</div>"
      ],
      "text/plain": [
       "            searchTerms  rank                displayLink  \\\n",
       "0  flights to hong kong     1              www.kayak.com   \n",
       "1  flights to hong kong     2        www.tripadvisor.com   \n",
       "2  flights to hong kong     3         www.skyscanner.com   \n",
       "3  flights to hong kong     4  flights.cathaypacific.com   \n",
       "4  flights to hong kong     5            www.expedia.com   \n",
       "\n",
       "                          queryTime  totalResults  formattedSearchTime  \\\n",
       "0  2018-12-16 11:26:30.485612+00:00     106000000                 0.16   \n",
       "1  2018-12-16 11:26:30.485612+00:00     106000000                 0.16   \n",
       "2  2018-12-16 11:26:30.485612+00:00     106000000                 0.16   \n",
       "3  2018-12-16 11:26:30.485612+00:00     106000000                 0.16   \n",
       "4  2018-12-16 11:26:30.485612+00:00     106000000                 0.16   \n",
       "\n",
       "   searchdate  \n",
       "0  2018-12-16  \n",
       "1  2018-12-16  \n",
       "2  2018-12-16  \n",
       "3  2018-12-16  \n",
       "4  2018-12-16  "
      ]
     },
     "execution_count": 393,
     "metadata": {},
     "output_type": "execute_result"
    }
   ],
   "source": [
    "data['searchdate']=[i.split()[0] for i in data.queryTime]\n",
    "data.head()\n"
   ]
  },
  {
   "cell_type": "markdown",
   "metadata": {},
   "source": [
    "### Converting searchdate to date format"
   ]
  },
  {
   "cell_type": "code",
   "execution_count": 220,
   "metadata": {},
   "outputs": [
    {
     "name": "stderr",
     "output_type": "stream",
     "text": [
      "C:\\Users\\Manu\\Anaconda3\\lib\\site-packages\\ipykernel_launcher.py:1: SettingWithCopyWarning: \n",
      "A value is trying to be set on a copy of a slice from a DataFrame.\n",
      "Try using .loc[row_indexer,col_indexer] = value instead\n",
      "\n",
      "See the caveats in the documentation: http://pandas.pydata.org/pandas-docs/stable/indexing.html#indexing-view-versus-copy\n",
      "  \"\"\"Entry point for launching an IPython kernel.\n"
     ]
    }
   ],
   "source": [
    "data['searchdate'] = data['searchdate'].astype('datetime64[ns]')\n"
   ]
  },
  {
   "cell_type": "code",
   "execution_count": 221,
   "metadata": {},
   "outputs": [
    {
     "data": {
      "text/plain": [
       "searchTerms                    object\n",
       "rank                            int64\n",
       "displayLink                    object\n",
       "queryTime                      object\n",
       "totalResults                    int64\n",
       "formattedSearchTime           float64\n",
       "searchdate             datetime64[ns]\n",
       "dtype: object"
      ]
     },
     "execution_count": 221,
     "metadata": {},
     "output_type": "execute_result"
    }
   ],
   "source": [
    "data.dtypes"
   ]
  },
  {
   "cell_type": "code",
   "execution_count": 377,
   "metadata": {},
   "outputs": [
    {
     "data": {
      "text/html": [
       "<div>\n",
       "<style scoped>\n",
       "    .dataframe tbody tr th:only-of-type {\n",
       "        vertical-align: middle;\n",
       "    }\n",
       "\n",
       "    .dataframe tbody tr th {\n",
       "        vertical-align: top;\n",
       "    }\n",
       "\n",
       "    .dataframe thead th {\n",
       "        text-align: right;\n",
       "    }\n",
       "</style>\n",
       "<table border=\"1\" class=\"dataframe\">\n",
       "  <thead>\n",
       "    <tr style=\"text-align: right;\">\n",
       "      <th></th>\n",
       "      <th>searchTerms</th>\n",
       "      <th>rank</th>\n",
       "      <th>displayLink</th>\n",
       "      <th>queryTime</th>\n",
       "      <th>totalResults</th>\n",
       "      <th>formattedSearchTime</th>\n",
       "      <th>searchdate</th>\n",
       "    </tr>\n",
       "  </thead>\n",
       "  <tbody>\n",
       "    <tr>\n",
       "      <th>0</th>\n",
       "      <td>flights to hong kong</td>\n",
       "      <td>1</td>\n",
       "      <td>www.kayak.com</td>\n",
       "      <td>2018-12-16 11:26:30.485612+00:00</td>\n",
       "      <td>106000000</td>\n",
       "      <td>0.16</td>\n",
       "      <td>2018-12-16</td>\n",
       "    </tr>\n",
       "    <tr>\n",
       "      <th>1</th>\n",
       "      <td>flights to hong kong</td>\n",
       "      <td>2</td>\n",
       "      <td>www.tripadvisor.com</td>\n",
       "      <td>2018-12-16 11:26:30.485612+00:00</td>\n",
       "      <td>106000000</td>\n",
       "      <td>0.16</td>\n",
       "      <td>2018-12-16</td>\n",
       "    </tr>\n",
       "    <tr>\n",
       "      <th>2</th>\n",
       "      <td>flights to hong kong</td>\n",
       "      <td>3</td>\n",
       "      <td>www.skyscanner.com</td>\n",
       "      <td>2018-12-16 11:26:30.485612+00:00</td>\n",
       "      <td>106000000</td>\n",
       "      <td>0.16</td>\n",
       "      <td>2018-12-16</td>\n",
       "    </tr>\n",
       "    <tr>\n",
       "      <th>3</th>\n",
       "      <td>flights to hong kong</td>\n",
       "      <td>4</td>\n",
       "      <td>flights.cathaypacific.com</td>\n",
       "      <td>2018-12-16 11:26:30.485612+00:00</td>\n",
       "      <td>106000000</td>\n",
       "      <td>0.16</td>\n",
       "      <td>2018-12-16</td>\n",
       "    </tr>\n",
       "    <tr>\n",
       "      <th>4</th>\n",
       "      <td>flights to hong kong</td>\n",
       "      <td>5</td>\n",
       "      <td>www.expedia.com</td>\n",
       "      <td>2018-12-16 11:26:30.485612+00:00</td>\n",
       "      <td>106000000</td>\n",
       "      <td>0.16</td>\n",
       "      <td>2018-12-16</td>\n",
       "    </tr>\n",
       "  </tbody>\n",
       "</table>\n",
       "</div>"
      ],
      "text/plain": [
       "            searchTerms  rank                displayLink  \\\n",
       "0  flights to hong kong     1              www.kayak.com   \n",
       "1  flights to hong kong     2        www.tripadvisor.com   \n",
       "2  flights to hong kong     3         www.skyscanner.com   \n",
       "3  flights to hong kong     4  flights.cathaypacific.com   \n",
       "4  flights to hong kong     5            www.expedia.com   \n",
       "\n",
       "                          queryTime  totalResults  formattedSearchTime  \\\n",
       "0  2018-12-16 11:26:30.485612+00:00     106000000                 0.16   \n",
       "1  2018-12-16 11:26:30.485612+00:00     106000000                 0.16   \n",
       "2  2018-12-16 11:26:30.485612+00:00     106000000                 0.16   \n",
       "3  2018-12-16 11:26:30.485612+00:00     106000000                 0.16   \n",
       "4  2018-12-16 11:26:30.485612+00:00     106000000                 0.16   \n",
       "\n",
       "  searchdate  \n",
       "0 2018-12-16  \n",
       "1 2018-12-16  \n",
       "2 2018-12-16  \n",
       "3 2018-12-16  \n",
       "4 2018-12-16  "
      ]
     },
     "execution_count": 377,
     "metadata": {},
     "output_type": "execute_result"
    }
   ],
   "source": [
    "data.head()"
   ]
  },
  {
   "cell_type": "markdown",
   "metadata": {},
   "source": [
    "### Grouping and arranging search terms by mean search time and mean of total search results"
   ]
  },
  {
   "cell_type": "code",
   "execution_count": 223,
   "metadata": {},
   "outputs": [
    {
     "data": {
      "text/html": [
       "<div>\n",
       "<style scoped>\n",
       "    .dataframe tbody tr th:only-of-type {\n",
       "        vertical-align: middle;\n",
       "    }\n",
       "\n",
       "    .dataframe tbody tr th {\n",
       "        vertical-align: top;\n",
       "    }\n",
       "\n",
       "    .dataframe thead th {\n",
       "        text-align: right;\n",
       "    }\n",
       "</style>\n",
       "<table border=\"1\" class=\"dataframe\">\n",
       "  <thead>\n",
       "    <tr style=\"text-align: right;\">\n",
       "      <th></th>\n",
       "      <th>searchTerms</th>\n",
       "      <th>formattedSearchTime</th>\n",
       "      <th>totalResults</th>\n",
       "    </tr>\n",
       "  </thead>\n",
       "  <tbody>\n",
       "    <tr>\n",
       "      <th>0</th>\n",
       "      <td>flights to abu dhabi</td>\n",
       "      <td>0.328824</td>\n",
       "      <td>2.414412e+07</td>\n",
       "    </tr>\n",
       "    <tr>\n",
       "      <th>1</th>\n",
       "      <td>flights to agra</td>\n",
       "      <td>0.305000</td>\n",
       "      <td>1.788559e+07</td>\n",
       "    </tr>\n",
       "    <tr>\n",
       "      <th>2</th>\n",
       "      <td>flights to amsterdam</td>\n",
       "      <td>0.293824</td>\n",
       "      <td>8.762618e+07</td>\n",
       "    </tr>\n",
       "    <tr>\n",
       "      <th>3</th>\n",
       "      <td>flights to antalya</td>\n",
       "      <td>0.330294</td>\n",
       "      <td>9.282941e+06</td>\n",
       "    </tr>\n",
       "    <tr>\n",
       "      <th>4</th>\n",
       "      <td>flights to artvin</td>\n",
       "      <td>0.327647</td>\n",
       "      <td>1.427794e+05</td>\n",
       "    </tr>\n",
       "  </tbody>\n",
       "</table>\n",
       "</div>"
      ],
      "text/plain": [
       "            searchTerms  formattedSearchTime  totalResults\n",
       "0  flights to abu dhabi             0.328824  2.414412e+07\n",
       "1       flights to agra             0.305000  1.788559e+07\n",
       "2  flights to amsterdam             0.293824  8.762618e+07\n",
       "3    flights to antalya             0.330294  9.282941e+06\n",
       "4     flights to artvin             0.327647  1.427794e+05"
      ]
     },
     "execution_count": 223,
     "metadata": {},
     "output_type": "execute_result"
    }
   ],
   "source": [
    "grouped=data.groupby(['searchTerms'],as_index=False).agg({'formattedSearchTime':'mean','totalResults':'mean'})\n",
    "grouped.head()"
   ]
  },
  {
   "cell_type": "markdown",
   "metadata": {},
   "source": [
    "### Search terms with least search time"
   ]
  },
  {
   "cell_type": "code",
   "execution_count": 395,
   "metadata": {},
   "outputs": [
    {
     "data": {
      "text/html": [
       "<div>\n",
       "<style scoped>\n",
       "    .dataframe tbody tr th:only-of-type {\n",
       "        vertical-align: middle;\n",
       "    }\n",
       "\n",
       "    .dataframe tbody tr th {\n",
       "        vertical-align: top;\n",
       "    }\n",
       "\n",
       "    .dataframe thead th {\n",
       "        text-align: right;\n",
       "    }\n",
       "</style>\n",
       "<table border=\"1\" class=\"dataframe\">\n",
       "  <thead>\n",
       "    <tr style=\"text-align: right;\">\n",
       "      <th></th>\n",
       "      <th>searchTerms</th>\n",
       "      <th>formattedSearchTime</th>\n",
       "    </tr>\n",
       "  </thead>\n",
       "  <tbody>\n",
       "    <tr>\n",
       "      <th>131</th>\n",
       "      <td>tickets to guilin</td>\n",
       "      <td>0.235294</td>\n",
       "    </tr>\n",
       "    <tr>\n",
       "      <th>31</th>\n",
       "      <td>flights to guilin</td>\n",
       "      <td>0.249412</td>\n",
       "    </tr>\n",
       "    <tr>\n",
       "      <th>41</th>\n",
       "      <td>flights to jeju</td>\n",
       "      <td>0.250000</td>\n",
       "    </tr>\n",
       "    <tr>\n",
       "      <th>156</th>\n",
       "      <td>tickets to marrakesh</td>\n",
       "      <td>0.251471</td>\n",
       "    </tr>\n",
       "    <tr>\n",
       "      <th>178</th>\n",
       "      <td>tickets to riyadh</td>\n",
       "      <td>0.254118</td>\n",
       "    </tr>\n",
       "  </tbody>\n",
       "</table>\n",
       "</div>"
      ],
      "text/plain": [
       "              searchTerms  formattedSearchTime\n",
       "131     tickets to guilin             0.235294\n",
       "31      flights to guilin             0.249412\n",
       "41        flights to jeju             0.250000\n",
       "156  tickets to marrakesh             0.251471\n",
       "178     tickets to riyadh             0.254118"
      ]
     },
     "execution_count": 395,
     "metadata": {},
     "output_type": "execute_result"
    }
   ],
   "source": [
    "sorted_searchtime=grouped.sort_values('formattedSearchTime',ascending=True)\n",
    "sorted_searchtime[['searchTerms','formattedSearchTime']].head()"
   ]
  },
  {
   "cell_type": "code",
   "execution_count": 364,
   "metadata": {},
   "outputs": [
    {
     "data": {
      "image/png": "[encoded data removed]",
      "text/plain": [
       "<Figure size 720x216 with 1 Axes>"
      ]
     },
     "metadata": {},
     "output_type": "display_data"
    }
   ],
   "source": [
    "ax2 = sns.barplot(x='formattedSearchTime', y='searchTerms', data=sorted_searchtime.head(10))\n",
    "ax2.set_xlabel('searchtime')\n",
    "sns.set(rc={'figure.figsize':(10,3)})"
   ]
  },
  {
   "cell_type": "markdown",
   "metadata": {},
   "source": [
    "### Search terms with most search results"
   ]
  },
  {
   "cell_type": "code",
   "execution_count": 379,
   "metadata": {},
   "outputs": [
    {
     "data": {
      "text/html": [
       "<div>\n",
       "<style scoped>\n",
       "    .dataframe tbody tr th:only-of-type {\n",
       "        vertical-align: middle;\n",
       "    }\n",
       "\n",
       "    .dataframe tbody tr th {\n",
       "        vertical-align: top;\n",
       "    }\n",
       "\n",
       "    .dataframe thead th {\n",
       "        text-align: right;\n",
       "    }\n",
       "</style>\n",
       "<table border=\"1\" class=\"dataframe\">\n",
       "  <thead>\n",
       "    <tr style=\"text-align: right;\">\n",
       "      <th></th>\n",
       "      <th>searchTerms</th>\n",
       "      <th>formattedSearchTime</th>\n",
       "      <th>totalResults</th>\n",
       "    </tr>\n",
       "  </thead>\n",
       "  <tbody>\n",
       "    <tr>\n",
       "      <th>165</th>\n",
       "      <td>tickets to new york city</td>\n",
       "      <td>0.409412</td>\n",
       "      <td>1.493438e+09</td>\n",
       "    </tr>\n",
       "    <tr>\n",
       "      <th>152</th>\n",
       "      <td>tickets to london</td>\n",
       "      <td>0.336471</td>\n",
       "      <td>5.486471e+08</td>\n",
       "    </tr>\n",
       "    <tr>\n",
       "      <th>166</th>\n",
       "      <td>tickets to nice</td>\n",
       "      <td>0.284118</td>\n",
       "      <td>3.553882e+08</td>\n",
       "    </tr>\n",
       "    <tr>\n",
       "      <th>65</th>\n",
       "      <td>flights to new york city</td>\n",
       "      <td>0.464412</td>\n",
       "      <td>3.469088e+08</td>\n",
       "    </tr>\n",
       "    <tr>\n",
       "      <th>52</th>\n",
       "      <td>flights to london</td>\n",
       "      <td>0.381176</td>\n",
       "      <td>3.276882e+08</td>\n",
       "    </tr>\n",
       "  </tbody>\n",
       "</table>\n",
       "</div>"
      ],
      "text/plain": [
       "                  searchTerms  formattedSearchTime  totalResults\n",
       "165  tickets to new york city             0.409412  1.493438e+09\n",
       "152         tickets to london             0.336471  5.486471e+08\n",
       "166           tickets to nice             0.284118  3.553882e+08\n",
       "65   flights to new york city             0.464412  3.469088e+08\n",
       "52          flights to london             0.381176  3.276882e+08"
      ]
     },
     "execution_count": 379,
     "metadata": {},
     "output_type": "execute_result"
    }
   ],
   "source": [
    "sorted_searchresults=grouped.sort_values('totalResults',ascending=False)\n",
    "sorted_searchresults.head()"
   ]
  },
  {
   "cell_type": "code",
   "execution_count": 363,
   "metadata": {},
   "outputs": [
    {
     "data": {
      "image/png": "[encoded data removed]",
      "text/plain": [
       "<Figure size 842.4x216 with 1 Axes>"
      ]
     },
     "metadata": {},
     "output_type": "display_data"
    }
   ],
   "source": [
    "ax1 = sns.barplot(x='totalResults', y='searchTerms', data=sorted_searchresults.head(10))\n",
    "ax1.set_xlabel('searchresults')\n",
    "sns.set(rc={'figure.figsize':(10,3)})"
   ]
  },
  {
   "cell_type": "markdown",
   "metadata": {},
   "source": [
    "### Frequently ranked domains"
   ]
  },
  {
   "cell_type": "code",
   "execution_count": 341,
   "metadata": {},
   "outputs": [
    {
     "data": {
      "text/html": [
       "<div>\n",
       "<style scoped>\n",
       "    .dataframe tbody tr th:only-of-type {\n",
       "        vertical-align: middle;\n",
       "    }\n",
       "\n",
       "    .dataframe tbody tr th {\n",
       "        vertical-align: top;\n",
       "    }\n",
       "\n",
       "    .dataframe thead th {\n",
       "        text-align: right;\n",
       "    }\n",
       "</style>\n",
       "<table border=\"1\" class=\"dataframe\">\n",
       "  <thead>\n",
       "    <tr style=\"text-align: right;\">\n",
       "      <th></th>\n",
       "      <th>index</th>\n",
       "      <th>displayLink</th>\n",
       "    </tr>\n",
       "  </thead>\n",
       "  <tbody>\n",
       "    <tr>\n",
       "      <th>0</th>\n",
       "      <td>www.skyscanner.net</td>\n",
       "      <td>5906</td>\n",
       "    </tr>\n",
       "    <tr>\n",
       "      <th>1</th>\n",
       "      <td>www.tripadvisor.com</td>\n",
       "      <td>4725</td>\n",
       "    </tr>\n",
       "    <tr>\n",
       "      <th>2</th>\n",
       "      <td>www.expedia.com</td>\n",
       "      <td>4176</td>\n",
       "    </tr>\n",
       "    <tr>\n",
       "      <th>3</th>\n",
       "      <td>www.kayak.com</td>\n",
       "      <td>3331</td>\n",
       "    </tr>\n",
       "    <tr>\n",
       "      <th>4</th>\n",
       "      <td>www.cheapflights.com</td>\n",
       "      <td>3126</td>\n",
       "    </tr>\n",
       "    <tr>\n",
       "      <th>5</th>\n",
       "      <td>www.kayak.co.uk</td>\n",
       "      <td>3018</td>\n",
       "    </tr>\n",
       "    <tr>\n",
       "      <th>6</th>\n",
       "      <td>www.skyscanner.com</td>\n",
       "      <td>2811</td>\n",
       "    </tr>\n",
       "    <tr>\n",
       "      <th>7</th>\n",
       "      <td>www.expedia.co.uk</td>\n",
       "      <td>2776</td>\n",
       "    </tr>\n",
       "    <tr>\n",
       "      <th>8</th>\n",
       "      <td>www.cheapflights.co.uk</td>\n",
       "      <td>2679</td>\n",
       "    </tr>\n",
       "    <tr>\n",
       "      <th>9</th>\n",
       "      <td>www.tripadvisor.co.uk</td>\n",
       "      <td>2294</td>\n",
       "    </tr>\n",
       "  </tbody>\n",
       "</table>\n",
       "</div>"
      ],
      "text/plain": [
       "                    index  displayLink\n",
       "0      www.skyscanner.net         5906\n",
       "1     www.tripadvisor.com         4725\n",
       "2         www.expedia.com         4176\n",
       "3           www.kayak.com         3331\n",
       "4    www.cheapflights.com         3126\n",
       "5         www.kayak.co.uk         3018\n",
       "6      www.skyscanner.com         2811\n",
       "7       www.expedia.co.uk         2776\n",
       "8  www.cheapflights.co.uk         2679\n",
       "9   www.tripadvisor.co.uk         2294"
      ]
     },
     "execution_count": 341,
     "metadata": {},
     "output_type": "execute_result"
    }
   ],
   "source": [
    "top=data['displayLink'].value_counts().head(10)\n",
    "df=top.reset_index()\n",
    "df"
   ]
  },
  {
   "cell_type": "code",
   "execution_count": 380,
   "metadata": {},
   "outputs": [
    {
     "data": {
      "image/png": "[encoded data removed]",
      "text/plain": [
       "<Figure size 720x216 with 1 Axes>"
      ]
     },
     "metadata": {},
     "output_type": "display_data"
    }
   ],
   "source": [
    "\n",
    "ax3 = sns.barplot(x='index', y='displayLink', data=df)\n",
    "ax3.set_xlabel('Domain')\n",
    "ax3.set_ylabel('Frequency')\n",
    "sns.set(rc={'figure.figsize':(10,3)})\n",
    "loc, labels = plt.xticks()\n",
    "ax3.set_xticklabels(labels, rotation=60)\n",
    "plt.show()"
   ]
  },
  {
   "cell_type": "markdown",
   "metadata": {},
   "source": [
    "### Generating a function that can estimate the best domain for a trip to any destination."
   ]
  },
  {
   "cell_type": "code",
   "execution_count": 298,
   "metadata": {},
   "outputs": [],
   "source": [
    "def best_domain(rank,destination):\n",
    "    ranks_df=data[data['rank']==rank].sort_values('searchdate',ascending=True)\n",
    "    destination_df=ranks_df[ranks_df['searchTerms']==destination]\n",
    "    results=plt.scatter(destination_df['searchdate'],destination_df['displayLink'])\n",
    "    return results\n",
    "\n",
    "    \n",
    "    "
   ]
  },
  {
   "cell_type": "code",
   "execution_count": 299,
   "metadata": {},
   "outputs": [
    {
     "data": {
      "text/plain": [
       "<matplotlib.collections.PathCollection at 0x22f17e47908>"
      ]
     },
     "execution_count": 299,
     "metadata": {},
     "output_type": "execute_result"
    },
    {
     "data": {
      "image/png": "[encoded data removed]",
      "text/plain": [
       "<Figure size 842.4x864 with 1 Axes>"
      ]
     },
     "metadata": {},
     "output_type": "display_data"
    }
   ],
   "source": [
    "best_domain(1,'tickets to new york city')"
   ]
  },
  {
   "cell_type": "code",
   "execution_count": null,
   "metadata": {},
   "outputs": [],
   "source": []
  }
 ],
 "metadata": {
  "kernelspec": {
   "display_name": "Python 3",
   "language": "python",
   "name": "python3"
  },
  "language_info": {
   "codemirror_mode": {
    "name": "ipython",
    "version": 3
   },
   "file_extension": ".py",
   "mimetype": "text/x-python",
   "name": "python",
   "nbconvert_exporter": "python",
   "pygments_lexer": "ipython3",
   "version": "3.7.3"
  }
 },
 "nbformat": 4,
 "nbformat_minor": 2
}
